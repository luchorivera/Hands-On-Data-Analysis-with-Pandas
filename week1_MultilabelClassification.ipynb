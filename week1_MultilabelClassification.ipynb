{
  "nbformat": 4,
  "nbformat_minor": 0,
  "metadata": {
    "kernelspec": {
      "display_name": "Python 3",
      "language": "python",
      "name": "python3"
    },
    "language_info": {
      "codemirror_mode": {
        "name": "ipython",
        "version": 3
      },
      "file_extension": ".py",
      "mimetype": "text/x-python",
      "name": "python",
      "nbconvert_exporter": "python",
      "pygments_lexer": "ipython3",
      "version": "3.4.3"
    },
    "colab": {
      "name": "week1_MultilabelClassification.ipynb",
      "provenance": [],
      "collapsed_sections": [],
      "include_colab_link": true
    },
    "accelerator": "GPU",
    "widgets": {
      "application/vnd.jupyter.widget-state+json": {
        "ec69fb01aa0c48aab3a06a0e4e8ef49b": {
          "model_module": "@jupyter-widgets/controls",
          "model_name": "HBoxModel",
          "state": {
            "_view_name": "HBoxView",
            "_dom_classes": [],
            "_model_name": "HBoxModel",
            "_view_module": "@jupyter-widgets/controls",
            "_model_module_version": "1.5.0",
            "_view_count": null,
            "_view_module_version": "1.5.0",
            "box_style": "",
            "layout": "IPY_MODEL_e89b7025dc52493f9341fccfeb162485",
            "_model_module": "@jupyter-widgets/controls",
            "children": [
              "IPY_MODEL_44e099be3a9946c48a9de91806a783ec",
              "IPY_MODEL_1df8a3816d6c4d29bcc93174f08d17bf"
            ]
          }
        },
        "e89b7025dc52493f9341fccfeb162485": {
          "model_module": "@jupyter-widgets/base",
          "model_name": "LayoutModel",
          "state": {
            "_view_name": "LayoutView",
            "grid_template_rows": null,
            "right": null,
            "justify_content": null,
            "_view_module": "@jupyter-widgets/base",
            "overflow": null,
            "_model_module_version": "1.2.0",
            "_view_count": null,
            "flex_flow": null,
            "width": null,
            "min_width": null,
            "border": null,
            "align_items": null,
            "bottom": null,
            "_model_module": "@jupyter-widgets/base",
            "top": null,
            "grid_column": null,
            "overflow_y": null,
            "overflow_x": null,
            "grid_auto_flow": null,
            "grid_area": null,
            "grid_template_columns": null,
            "flex": null,
            "_model_name": "LayoutModel",
            "justify_items": null,
            "grid_row": null,
            "max_height": null,
            "align_content": null,
            "visibility": null,
            "align_self": null,
            "height": null,
            "min_height": null,
            "padding": null,
            "grid_auto_rows": null,
            "grid_gap": null,
            "max_width": null,
            "order": null,
            "_view_module_version": "1.2.0",
            "grid_template_areas": null,
            "object_position": null,
            "object_fit": null,
            "grid_auto_columns": null,
            "margin": null,
            "display": null,
            "left": null
          }
        },
        "44e099be3a9946c48a9de91806a783ec": {
          "model_module": "@jupyter-widgets/controls",
          "model_name": "FloatProgressModel",
          "state": {
            "_view_name": "ProgressView",
            "style": "IPY_MODEL_0ad024a0bf954839b3eed7c6292c0a4f",
            "_dom_classes": [],
            "description": "train.tsv: 100%",
            "_model_name": "FloatProgressModel",
            "bar_style": "success",
            "max": 7196138,
            "_view_module": "@jupyter-widgets/controls",
            "_model_module_version": "1.5.0",
            "value": 7196138,
            "_view_count": null,
            "_view_module_version": "1.5.0",
            "orientation": "horizontal",
            "min": 0,
            "description_tooltip": null,
            "_model_module": "@jupyter-widgets/controls",
            "layout": "IPY_MODEL_7ea0b8dff9d84970afc198aa0a2bdba3"
          }
        },
        "1df8a3816d6c4d29bcc93174f08d17bf": {
          "model_module": "@jupyter-widgets/controls",
          "model_name": "HTMLModel",
          "state": {
            "_view_name": "HTMLView",
            "style": "IPY_MODEL_1da49c3c4dc74bf3a6af851b0c60bbbc",
            "_dom_classes": [],
            "description": "",
            "_model_name": "HTMLModel",
            "placeholder": "​",
            "_view_module": "@jupyter-widgets/controls",
            "_model_module_version": "1.5.0",
            "value": " 7.20M/7.20M [00:04&lt;00:00, 1.68MB/s]",
            "_view_count": null,
            "_view_module_version": "1.5.0",
            "description_tooltip": null,
            "_model_module": "@jupyter-widgets/controls",
            "layout": "IPY_MODEL_e02618997e454868aa0ca9f0563d2b8c"
          }
        },
        "0ad024a0bf954839b3eed7c6292c0a4f": {
          "model_module": "@jupyter-widgets/controls",
          "model_name": "ProgressStyleModel",
          "state": {
            "_view_name": "StyleView",
            "_model_name": "ProgressStyleModel",
            "description_width": "initial",
            "_view_module": "@jupyter-widgets/base",
            "_model_module_version": "1.5.0",
            "_view_count": null,
            "_view_module_version": "1.2.0",
            "bar_color": null,
            "_model_module": "@jupyter-widgets/controls"
          }
        },
        "7ea0b8dff9d84970afc198aa0a2bdba3": {
          "model_module": "@jupyter-widgets/base",
          "model_name": "LayoutModel",
          "state": {
            "_view_name": "LayoutView",
            "grid_template_rows": null,
            "right": null,
            "justify_content": null,
            "_view_module": "@jupyter-widgets/base",
            "overflow": null,
            "_model_module_version": "1.2.0",
            "_view_count": null,
            "flex_flow": null,
            "width": null,
            "min_width": null,
            "border": null,
            "align_items": null,
            "bottom": null,
            "_model_module": "@jupyter-widgets/base",
            "top": null,
            "grid_column": null,
            "overflow_y": null,
            "overflow_x": null,
            "grid_auto_flow": null,
            "grid_area": null,
            "grid_template_columns": null,
            "flex": null,
            "_model_name": "LayoutModel",
            "justify_items": null,
            "grid_row": null,
            "max_height": null,
            "align_content": null,
            "visibility": null,
            "align_self": null,
            "height": null,
            "min_height": null,
            "padding": null,
            "grid_auto_rows": null,
            "grid_gap": null,
            "max_width": null,
            "order": null,
            "_view_module_version": "1.2.0",
            "grid_template_areas": null,
            "object_position": null,
            "object_fit": null,
            "grid_auto_columns": null,
            "margin": null,
            "display": null,
            "left": null
          }
        },
        "1da49c3c4dc74bf3a6af851b0c60bbbc": {
          "model_module": "@jupyter-widgets/controls",
          "model_name": "DescriptionStyleModel",
          "state": {
            "_view_name": "StyleView",
            "_model_name": "DescriptionStyleModel",
            "description_width": "",
            "_view_module": "@jupyter-widgets/base",
            "_model_module_version": "1.5.0",
            "_view_count": null,
            "_view_module_version": "1.2.0",
            "_model_module": "@jupyter-widgets/controls"
          }
        },
        "e02618997e454868aa0ca9f0563d2b8c": {
          "model_module": "@jupyter-widgets/base",
          "model_name": "LayoutModel",
          "state": {
            "_view_name": "LayoutView",
            "grid_template_rows": null,
            "right": null,
            "justify_content": null,
            "_view_module": "@jupyter-widgets/base",
            "overflow": null,
            "_model_module_version": "1.2.0",
            "_view_count": null,
            "flex_flow": null,
            "width": null,
            "min_width": null,
            "border": null,
            "align_items": null,
            "bottom": null,
            "_model_module": "@jupyter-widgets/base",
            "top": null,
            "grid_column": null,
            "overflow_y": null,
            "overflow_x": null,
            "grid_auto_flow": null,
            "grid_area": null,
            "grid_template_columns": null,
            "flex": null,
            "_model_name": "LayoutModel",
            "justify_items": null,
            "grid_row": null,
            "max_height": null,
            "align_content": null,
            "visibility": null,
            "align_self": null,
            "height": null,
            "min_height": null,
            "padding": null,
            "grid_auto_rows": null,
            "grid_gap": null,
            "max_width": null,
            "order": null,
            "_view_module_version": "1.2.0",
            "grid_template_areas": null,
            "object_position": null,
            "object_fit": null,
            "grid_auto_columns": null,
            "margin": null,
            "display": null,
            "left": null
          }
        },
        "2e7696232e7543d1971ab2763589b7b2": {
          "model_module": "@jupyter-widgets/controls",
          "model_name": "HBoxModel",
          "state": {
            "_view_name": "HBoxView",
            "_dom_classes": [],
            "_model_name": "HBoxModel",
            "_view_module": "@jupyter-widgets/controls",
            "_model_module_version": "1.5.0",
            "_view_count": null,
            "_view_module_version": "1.5.0",
            "box_style": "",
            "layout": "IPY_MODEL_2d9bd59f09eb4c54b3fad6c189cf07ba",
            "_model_module": "@jupyter-widgets/controls",
            "children": [
              "IPY_MODEL_a37c3bb66abd423495343bf38c0d9e29",
              "IPY_MODEL_4050b501674943d19e226bdf2371b9a6"
            ]
          }
        },
        "2d9bd59f09eb4c54b3fad6c189cf07ba": {
          "model_module": "@jupyter-widgets/base",
          "model_name": "LayoutModel",
          "state": {
            "_view_name": "LayoutView",
            "grid_template_rows": null,
            "right": null,
            "justify_content": null,
            "_view_module": "@jupyter-widgets/base",
            "overflow": null,
            "_model_module_version": "1.2.0",
            "_view_count": null,
            "flex_flow": null,
            "width": null,
            "min_width": null,
            "border": null,
            "align_items": null,
            "bottom": null,
            "_model_module": "@jupyter-widgets/base",
            "top": null,
            "grid_column": null,
            "overflow_y": null,
            "overflow_x": null,
            "grid_auto_flow": null,
            "grid_area": null,
            "grid_template_columns": null,
            "flex": null,
            "_model_name": "LayoutModel",
            "justify_items": null,
            "grid_row": null,
            "max_height": null,
            "align_content": null,
            "visibility": null,
            "align_self": null,
            "height": null,
            "min_height": null,
            "padding": null,
            "grid_auto_rows": null,
            "grid_gap": null,
            "max_width": null,
            "order": null,
            "_view_module_version": "1.2.0",
            "grid_template_areas": null,
            "object_position": null,
            "object_fit": null,
            "grid_auto_columns": null,
            "margin": null,
            "display": null,
            "left": null
          }
        },
        "a37c3bb66abd423495343bf38c0d9e29": {
          "model_module": "@jupyter-widgets/controls",
          "model_name": "FloatProgressModel",
          "state": {
            "_view_name": "ProgressView",
            "style": "IPY_MODEL_735aba890a8c46e5ad121fb4e624b0ac",
            "_dom_classes": [],
            "description": "validation.tsv: 100%",
            "_model_name": "FloatProgressModel",
            "bar_style": "success",
            "max": 2166270,
            "_view_module": "@jupyter-widgets/controls",
            "_model_module_version": "1.5.0",
            "value": 2166270,
            "_view_count": null,
            "_view_module_version": "1.5.0",
            "orientation": "horizontal",
            "min": 0,
            "description_tooltip": null,
            "_model_module": "@jupyter-widgets/controls",
            "layout": "IPY_MODEL_4229964dfe1c4ee6840a94b21d5954bf"
          }
        },
        "4050b501674943d19e226bdf2371b9a6": {
          "model_module": "@jupyter-widgets/controls",
          "model_name": "HTMLModel",
          "state": {
            "_view_name": "HTMLView",
            "style": "IPY_MODEL_d71769f45a6448ffaec84d9512ee0197",
            "_dom_classes": [],
            "description": "",
            "_model_name": "HTMLModel",
            "placeholder": "​",
            "_view_module": "@jupyter-widgets/controls",
            "_model_module_version": "1.5.0",
            "value": " 2.17M/2.17M [00:02&lt;00:00, 823kB/s]",
            "_view_count": null,
            "_view_module_version": "1.5.0",
            "description_tooltip": null,
            "_model_module": "@jupyter-widgets/controls",
            "layout": "IPY_MODEL_3f8be616744d48829031b0a488ece442"
          }
        },
        "735aba890a8c46e5ad121fb4e624b0ac": {
          "model_module": "@jupyter-widgets/controls",
          "model_name": "ProgressStyleModel",
          "state": {
            "_view_name": "StyleView",
            "_model_name": "ProgressStyleModel",
            "description_width": "initial",
            "_view_module": "@jupyter-widgets/base",
            "_model_module_version": "1.5.0",
            "_view_count": null,
            "_view_module_version": "1.2.0",
            "bar_color": null,
            "_model_module": "@jupyter-widgets/controls"
          }
        },
        "4229964dfe1c4ee6840a94b21d5954bf": {
          "model_module": "@jupyter-widgets/base",
          "model_name": "LayoutModel",
          "state": {
            "_view_name": "LayoutView",
            "grid_template_rows": null,
            "right": null,
            "justify_content": null,
            "_view_module": "@jupyter-widgets/base",
            "overflow": null,
            "_model_module_version": "1.2.0",
            "_view_count": null,
            "flex_flow": null,
            "width": null,
            "min_width": null,
            "border": null,
            "align_items": null,
            "bottom": null,
            "_model_module": "@jupyter-widgets/base",
            "top": null,
            "grid_column": null,
            "overflow_y": null,
            "overflow_x": null,
            "grid_auto_flow": null,
            "grid_area": null,
            "grid_template_columns": null,
            "flex": null,
            "_model_name": "LayoutModel",
            "justify_items": null,
            "grid_row": null,
            "max_height": null,
            "align_content": null,
            "visibility": null,
            "align_self": null,
            "height": null,
            "min_height": null,
            "padding": null,
            "grid_auto_rows": null,
            "grid_gap": null,
            "max_width": null,
            "order": null,
            "_view_module_version": "1.2.0",
            "grid_template_areas": null,
            "object_position": null,
            "object_fit": null,
            "grid_auto_columns": null,
            "margin": null,
            "display": null,
            "left": null
          }
        },
        "d71769f45a6448ffaec84d9512ee0197": {
          "model_module": "@jupyter-widgets/controls",
          "model_name": "DescriptionStyleModel",
          "state": {
            "_view_name": "StyleView",
            "_model_name": "DescriptionStyleModel",
            "description_width": "",
            "_view_module": "@jupyter-widgets/base",
            "_model_module_version": "1.5.0",
            "_view_count": null,
            "_view_module_version": "1.2.0",
            "_model_module": "@jupyter-widgets/controls"
          }
        },
        "3f8be616744d48829031b0a488ece442": {
          "model_module": "@jupyter-widgets/base",
          "model_name": "LayoutModel",
          "state": {
            "_view_name": "LayoutView",
            "grid_template_rows": null,
            "right": null,
            "justify_content": null,
            "_view_module": "@jupyter-widgets/base",
            "overflow": null,
            "_model_module_version": "1.2.0",
            "_view_count": null,
            "flex_flow": null,
            "width": null,
            "min_width": null,
            "border": null,
            "align_items": null,
            "bottom": null,
            "_model_module": "@jupyter-widgets/base",
            "top": null,
            "grid_column": null,
            "overflow_y": null,
            "overflow_x": null,
            "grid_auto_flow": null,
            "grid_area": null,
            "grid_template_columns": null,
            "flex": null,
            "_model_name": "LayoutModel",
            "justify_items": null,
            "grid_row": null,
            "max_height": null,
            "align_content": null,
            "visibility": null,
            "align_self": null,
            "height": null,
            "min_height": null,
            "padding": null,
            "grid_auto_rows": null,
            "grid_gap": null,
            "max_width": null,
            "order": null,
            "_view_module_version": "1.2.0",
            "grid_template_areas": null,
            "object_position": null,
            "object_fit": null,
            "grid_auto_columns": null,
            "margin": null,
            "display": null,
            "left": null
          }
        },
        "cbbb81c8ebf54f1a9f7b30457450401f": {
          "model_module": "@jupyter-widgets/controls",
          "model_name": "HBoxModel",
          "state": {
            "_view_name": "HBoxView",
            "_dom_classes": [],
            "_model_name": "HBoxModel",
            "_view_module": "@jupyter-widgets/controls",
            "_model_module_version": "1.5.0",
            "_view_count": null,
            "_view_module_version": "1.5.0",
            "box_style": "",
            "layout": "IPY_MODEL_deb2691c0881455ab9167d38f33046be",
            "_model_module": "@jupyter-widgets/controls",
            "children": [
              "IPY_MODEL_265c4a65b99c4473bdcea53a7ba6b998",
              "IPY_MODEL_684c6b6be18f43fd8d8799a650408d77"
            ]
          }
        },
        "deb2691c0881455ab9167d38f33046be": {
          "model_module": "@jupyter-widgets/base",
          "model_name": "LayoutModel",
          "state": {
            "_view_name": "LayoutView",
            "grid_template_rows": null,
            "right": null,
            "justify_content": null,
            "_view_module": "@jupyter-widgets/base",
            "overflow": null,
            "_model_module_version": "1.2.0",
            "_view_count": null,
            "flex_flow": null,
            "width": null,
            "min_width": null,
            "border": null,
            "align_items": null,
            "bottom": null,
            "_model_module": "@jupyter-widgets/base",
            "top": null,
            "grid_column": null,
            "overflow_y": null,
            "overflow_x": null,
            "grid_auto_flow": null,
            "grid_area": null,
            "grid_template_columns": null,
            "flex": null,
            "_model_name": "LayoutModel",
            "justify_items": null,
            "grid_row": null,
            "max_height": null,
            "align_content": null,
            "visibility": null,
            "align_self": null,
            "height": null,
            "min_height": null,
            "padding": null,
            "grid_auto_rows": null,
            "grid_gap": null,
            "max_width": null,
            "order": null,
            "_view_module_version": "1.2.0",
            "grid_template_areas": null,
            "object_position": null,
            "object_fit": null,
            "grid_auto_columns": null,
            "margin": null,
            "display": null,
            "left": null
          }
        },
        "265c4a65b99c4473bdcea53a7ba6b998": {
          "model_module": "@jupyter-widgets/controls",
          "model_name": "FloatProgressModel",
          "state": {
            "_view_name": "ProgressView",
            "style": "IPY_MODEL_5c1438d21d41467f82eccf9b634e954b",
            "_dom_classes": [],
            "description": "test.tsv: 100%",
            "_model_name": "FloatProgressModel",
            "bar_style": "success",
            "max": 1041379,
            "_view_module": "@jupyter-widgets/controls",
            "_model_module_version": "1.5.0",
            "value": 1041379,
            "_view_count": null,
            "_view_module_version": "1.5.0",
            "orientation": "horizontal",
            "min": 0,
            "description_tooltip": null,
            "_model_module": "@jupyter-widgets/controls",
            "layout": "IPY_MODEL_5f1fc39825e34833ac0e4105a2d17cc6"
          }
        },
        "684c6b6be18f43fd8d8799a650408d77": {
          "model_module": "@jupyter-widgets/controls",
          "model_name": "HTMLModel",
          "state": {
            "_view_name": "HTMLView",
            "style": "IPY_MODEL_7a07f9450dea467d90ed912de00a3e97",
            "_dom_classes": [],
            "description": "",
            "_model_name": "HTMLModel",
            "placeholder": "​",
            "_view_module": "@jupyter-widgets/controls",
            "_model_module_version": "1.5.0",
            "value": " 1.04M/1.04M [00:01&lt;00:00, 807kB/s]",
            "_view_count": null,
            "_view_module_version": "1.5.0",
            "description_tooltip": null,
            "_model_module": "@jupyter-widgets/controls",
            "layout": "IPY_MODEL_ae097e8bbb6b48f197ccc5e5208e8b9b"
          }
        },
        "5c1438d21d41467f82eccf9b634e954b": {
          "model_module": "@jupyter-widgets/controls",
          "model_name": "ProgressStyleModel",
          "state": {
            "_view_name": "StyleView",
            "_model_name": "ProgressStyleModel",
            "description_width": "initial",
            "_view_module": "@jupyter-widgets/base",
            "_model_module_version": "1.5.0",
            "_view_count": null,
            "_view_module_version": "1.2.0",
            "bar_color": null,
            "_model_module": "@jupyter-widgets/controls"
          }
        },
        "5f1fc39825e34833ac0e4105a2d17cc6": {
          "model_module": "@jupyter-widgets/base",
          "model_name": "LayoutModel",
          "state": {
            "_view_name": "LayoutView",
            "grid_template_rows": null,
            "right": null,
            "justify_content": null,
            "_view_module": "@jupyter-widgets/base",
            "overflow": null,
            "_model_module_version": "1.2.0",
            "_view_count": null,
            "flex_flow": null,
            "width": null,
            "min_width": null,
            "border": null,
            "align_items": null,
            "bottom": null,
            "_model_module": "@jupyter-widgets/base",
            "top": null,
            "grid_column": null,
            "overflow_y": null,
            "overflow_x": null,
            "grid_auto_flow": null,
            "grid_area": null,
            "grid_template_columns": null,
            "flex": null,
            "_model_name": "LayoutModel",
            "justify_items": null,
            "grid_row": null,
            "max_height": null,
            "align_content": null,
            "visibility": null,
            "align_self": null,
            "height": null,
            "min_height": null,
            "padding": null,
            "grid_auto_rows": null,
            "grid_gap": null,
            "max_width": null,
            "order": null,
            "_view_module_version": "1.2.0",
            "grid_template_areas": null,
            "object_position": null,
            "object_fit": null,
            "grid_auto_columns": null,
            "margin": null,
            "display": null,
            "left": null
          }
        },
        "7a07f9450dea467d90ed912de00a3e97": {
          "model_module": "@jupyter-widgets/controls",
          "model_name": "DescriptionStyleModel",
          "state": {
            "_view_name": "StyleView",
            "_model_name": "DescriptionStyleModel",
            "description_width": "",
            "_view_module": "@jupyter-widgets/base",
            "_model_module_version": "1.5.0",
            "_view_count": null,
            "_view_module_version": "1.2.0",
            "_model_module": "@jupyter-widgets/controls"
          }
        },
        "ae097e8bbb6b48f197ccc5e5208e8b9b": {
          "model_module": "@jupyter-widgets/base",
          "model_name": "LayoutModel",
          "state": {
            "_view_name": "LayoutView",
            "grid_template_rows": null,
            "right": null,
            "justify_content": null,
            "_view_module": "@jupyter-widgets/base",
            "overflow": null,
            "_model_module_version": "1.2.0",
            "_view_count": null,
            "flex_flow": null,
            "width": null,
            "min_width": null,
            "border": null,
            "align_items": null,
            "bottom": null,
            "_model_module": "@jupyter-widgets/base",
            "top": null,
            "grid_column": null,
            "overflow_y": null,
            "overflow_x": null,
            "grid_auto_flow": null,
            "grid_area": null,
            "grid_template_columns": null,
            "flex": null,
            "_model_name": "LayoutModel",
            "justify_items": null,
            "grid_row": null,
            "max_height": null,
            "align_content": null,
            "visibility": null,
            "align_self": null,
            "height": null,
            "min_height": null,
            "padding": null,
            "grid_auto_rows": null,
            "grid_gap": null,
            "max_width": null,
            "order": null,
            "_view_module_version": "1.2.0",
            "grid_template_areas": null,
            "object_position": null,
            "object_fit": null,
            "grid_auto_columns": null,
            "margin": null,
            "display": null,
            "left": null
          }
        },
        "c9ade61e339640b3b52684a48239efca": {
          "model_module": "@jupyter-widgets/controls",
          "model_name": "HBoxModel",
          "state": {
            "_view_name": "HBoxView",
            "_dom_classes": [],
            "_model_name": "HBoxModel",
            "_view_module": "@jupyter-widgets/controls",
            "_model_module_version": "1.5.0",
            "_view_count": null,
            "_view_module_version": "1.5.0",
            "box_style": "",
            "layout": "IPY_MODEL_ba59be9b22994b4bbff8439c515dc95e",
            "_model_module": "@jupyter-widgets/controls",
            "children": [
              "IPY_MODEL_78596eca7ea54dd681d41dcbd74e3f95",
              "IPY_MODEL_33609152ec1a4d1a8a803cdba580a563"
            ]
          }
        },
        "ba59be9b22994b4bbff8439c515dc95e": {
          "model_module": "@jupyter-widgets/base",
          "model_name": "LayoutModel",
          "state": {
            "_view_name": "LayoutView",
            "grid_template_rows": null,
            "right": null,
            "justify_content": null,
            "_view_module": "@jupyter-widgets/base",
            "overflow": null,
            "_model_module_version": "1.2.0",
            "_view_count": null,
            "flex_flow": null,
            "width": null,
            "min_width": null,
            "border": null,
            "align_items": null,
            "bottom": null,
            "_model_module": "@jupyter-widgets/base",
            "top": null,
            "grid_column": null,
            "overflow_y": null,
            "overflow_x": null,
            "grid_auto_flow": null,
            "grid_area": null,
            "grid_template_columns": null,
            "flex": null,
            "_model_name": "LayoutModel",
            "justify_items": null,
            "grid_row": null,
            "max_height": null,
            "align_content": null,
            "visibility": null,
            "align_self": null,
            "height": null,
            "min_height": null,
            "padding": null,
            "grid_auto_rows": null,
            "grid_gap": null,
            "max_width": null,
            "order": null,
            "_view_module_version": "1.2.0",
            "grid_template_areas": null,
            "object_position": null,
            "object_fit": null,
            "grid_auto_columns": null,
            "margin": null,
            "display": null,
            "left": null
          }
        },
        "78596eca7ea54dd681d41dcbd74e3f95": {
          "model_module": "@jupyter-widgets/controls",
          "model_name": "FloatProgressModel",
          "state": {
            "_view_name": "ProgressView",
            "style": "IPY_MODEL_e16718369ead4d2a97730b67e125e155",
            "_dom_classes": [],
            "description": "text_prepare_tests.tsv: 100%",
            "_model_name": "FloatProgressModel",
            "bar_style": "success",
            "max": 5091,
            "_view_module": "@jupyter-widgets/controls",
            "_model_module_version": "1.5.0",
            "value": 5091,
            "_view_count": null,
            "_view_module_version": "1.5.0",
            "orientation": "horizontal",
            "min": 0,
            "description_tooltip": null,
            "_model_module": "@jupyter-widgets/controls",
            "layout": "IPY_MODEL_d78a2db6a0c34e19a32c1d05ff98c089"
          }
        },
        "33609152ec1a4d1a8a803cdba580a563": {
          "model_module": "@jupyter-widgets/controls",
          "model_name": "HTMLModel",
          "state": {
            "_view_name": "HTMLView",
            "style": "IPY_MODEL_d5d3d2a375274290a9258d82dfdc59a4",
            "_dom_classes": [],
            "description": "",
            "_model_name": "HTMLModel",
            "placeholder": "​",
            "_view_module": "@jupyter-widgets/controls",
            "_model_module_version": "1.5.0",
            "value": " 5.09k/5.09k [00:00&lt;00:00, 123kB/s]",
            "_view_count": null,
            "_view_module_version": "1.5.0",
            "description_tooltip": null,
            "_model_module": "@jupyter-widgets/controls",
            "layout": "IPY_MODEL_d5203673f519456493e15c3014f3c9ed"
          }
        },
        "e16718369ead4d2a97730b67e125e155": {
          "model_module": "@jupyter-widgets/controls",
          "model_name": "ProgressStyleModel",
          "state": {
            "_view_name": "StyleView",
            "_model_name": "ProgressStyleModel",
            "description_width": "initial",
            "_view_module": "@jupyter-widgets/base",
            "_model_module_version": "1.5.0",
            "_view_count": null,
            "_view_module_version": "1.2.0",
            "bar_color": null,
            "_model_module": "@jupyter-widgets/controls"
          }
        },
        "d78a2db6a0c34e19a32c1d05ff98c089": {
          "model_module": "@jupyter-widgets/base",
          "model_name": "LayoutModel",
          "state": {
            "_view_name": "LayoutView",
            "grid_template_rows": null,
            "right": null,
            "justify_content": null,
            "_view_module": "@jupyter-widgets/base",
            "overflow": null,
            "_model_module_version": "1.2.0",
            "_view_count": null,
            "flex_flow": null,
            "width": null,
            "min_width": null,
            "border": null,
            "align_items": null,
            "bottom": null,
            "_model_module": "@jupyter-widgets/base",
            "top": null,
            "grid_column": null,
            "overflow_y": null,
            "overflow_x": null,
            "grid_auto_flow": null,
            "grid_area": null,
            "grid_template_columns": null,
            "flex": null,
            "_model_name": "LayoutModel",
            "justify_items": null,
            "grid_row": null,
            "max_height": null,
            "align_content": null,
            "visibility": null,
            "align_self": null,
            "height": null,
            "min_height": null,
            "padding": null,
            "grid_auto_rows": null,
            "grid_gap": null,
            "max_width": null,
            "order": null,
            "_view_module_version": "1.2.0",
            "grid_template_areas": null,
            "object_position": null,
            "object_fit": null,
            "grid_auto_columns": null,
            "margin": null,
            "display": null,
            "left": null
          }
        },
        "d5d3d2a375274290a9258d82dfdc59a4": {
          "model_module": "@jupyter-widgets/controls",
          "model_name": "DescriptionStyleModel",
          "state": {
            "_view_name": "StyleView",
            "_model_name": "DescriptionStyleModel",
            "description_width": "",
            "_view_module": "@jupyter-widgets/base",
            "_model_module_version": "1.5.0",
            "_view_count": null,
            "_view_module_version": "1.2.0",
            "_model_module": "@jupyter-widgets/controls"
          }
        },
        "d5203673f519456493e15c3014f3c9ed": {
          "model_module": "@jupyter-widgets/base",
          "model_name": "LayoutModel",
          "state": {
            "_view_name": "LayoutView",
            "grid_template_rows": null,
            "right": null,
            "justify_content": null,
            "_view_module": "@jupyter-widgets/base",
            "overflow": null,
            "_model_module_version": "1.2.0",
            "_view_count": null,
            "flex_flow": null,
            "width": null,
            "min_width": null,
            "border": null,
            "align_items": null,
            "bottom": null,
            "_model_module": "@jupyter-widgets/base",
            "top": null,
            "grid_column": null,
            "overflow_y": null,
            "overflow_x": null,
            "grid_auto_flow": null,
            "grid_area": null,
            "grid_template_columns": null,
            "flex": null,
            "_model_name": "LayoutModel",
            "justify_items": null,
            "grid_row": null,
            "max_height": null,
            "align_content": null,
            "visibility": null,
            "align_self": null,
            "height": null,
            "min_height": null,
            "padding": null,
            "grid_auto_rows": null,
            "grid_gap": null,
            "max_width": null,
            "order": null,
            "_view_module_version": "1.2.0",
            "grid_template_areas": null,
            "object_position": null,
            "object_fit": null,
            "grid_auto_columns": null,
            "margin": null,
            "display": null,
            "left": null
          }
        }
      }
    }
  },
  "cells": [
    {
      "cell_type": "markdown",
      "metadata": {
        "id": "view-in-github",
        "colab_type": "text"
      },
      "source": [
        "<a href=\"https://colab.research.google.com/github/luchorivera/Hands-On-Data-Analysis-with-Pandas/blob/master/week1_MultilabelClassification.ipynb\" target=\"_parent\"><img src=\"https://colab.research.google.com/assets/colab-badge.svg\" alt=\"Open In Colab\"/></a>"
      ]
    },
    {
      "cell_type": "markdown",
      "metadata": {
        "id": "ASrWt94ttGn8",
        "colab_type": "text"
      },
      "source": [
        "# Predict tags on StackOverflow with linear models"
      ]
    },
    {
      "cell_type": "markdown",
      "metadata": {
        "id": "-pe1YZo3tGn-",
        "colab_type": "text"
      },
      "source": [
        "In this assignment you will learn how to predict tags for posts from [StackOverflow](https://stackoverflow.com). To solve this task you will use multilabel classification approach.\n",
        "\n",
        "### Libraries\n",
        "\n",
        "In this task you will need the following libraries:\n",
        "- [Numpy](http://www.numpy.org) — a package for scientific computing.\n",
        "- [Pandas](https://pandas.pydata.org) — a library providing high-performance, easy-to-use data structures and data analysis tools for the Python\n",
        "- [scikit-learn](http://scikit-learn.org/stable/index.html) — a tool for data mining and data analysis.\n",
        "- [NLTK](http://www.nltk.org) — a platform to work with natural language."
      ]
    },
    {
      "cell_type": "markdown",
      "metadata": {
        "id": "alPBxBy2tGn-",
        "colab_type": "text"
      },
      "source": [
        "### Data\n",
        "\n",
        "The following cell will download all data required for this assignment into the folder `week1/data`."
      ]
    },
    {
      "cell_type": "code",
      "metadata": {
        "id": "DqOY1btMtGn_",
        "colab_type": "code",
        "colab": {
          "base_uri": "https://localhost:8080/",
          "height": 400,
          "referenced_widgets": [
            "ec69fb01aa0c48aab3a06a0e4e8ef49b",
            "e89b7025dc52493f9341fccfeb162485",
            "44e099be3a9946c48a9de91806a783ec",
            "1df8a3816d6c4d29bcc93174f08d17bf",
            "0ad024a0bf954839b3eed7c6292c0a4f",
            "7ea0b8dff9d84970afc198aa0a2bdba3",
            "1da49c3c4dc74bf3a6af851b0c60bbbc",
            "e02618997e454868aa0ca9f0563d2b8c",
            "2e7696232e7543d1971ab2763589b7b2",
            "2d9bd59f09eb4c54b3fad6c189cf07ba",
            "a37c3bb66abd423495343bf38c0d9e29",
            "4050b501674943d19e226bdf2371b9a6",
            "735aba890a8c46e5ad121fb4e624b0ac",
            "4229964dfe1c4ee6840a94b21d5954bf",
            "d71769f45a6448ffaec84d9512ee0197",
            "3f8be616744d48829031b0a488ece442",
            "cbbb81c8ebf54f1a9f7b30457450401f",
            "deb2691c0881455ab9167d38f33046be",
            "265c4a65b99c4473bdcea53a7ba6b998",
            "684c6b6be18f43fd8d8799a650408d77",
            "5c1438d21d41467f82eccf9b634e954b",
            "5f1fc39825e34833ac0e4105a2d17cc6",
            "7a07f9450dea467d90ed912de00a3e97",
            "ae097e8bbb6b48f197ccc5e5208e8b9b",
            "c9ade61e339640b3b52684a48239efca",
            "ba59be9b22994b4bbff8439c515dc95e",
            "78596eca7ea54dd681d41dcbd74e3f95",
            "33609152ec1a4d1a8a803cdba580a563",
            "e16718369ead4d2a97730b67e125e155",
            "d78a2db6a0c34e19a32c1d05ff98c089",
            "d5d3d2a375274290a9258d82dfdc59a4",
            "d5203673f519456493e15c3014f3c9ed"
          ]
        },
        "outputId": "ea787e01-cbee-422f-8b16-e3f746243eb8"
      },
      "source": [
        "try:\n",
        "    import google.colab\n",
        "    IN_COLAB = True\n",
        "except:\n",
        "    IN_COLAB = False\n",
        "\n",
        "if IN_COLAB:\n",
        "    ! wget https://raw.githubusercontent.com/hse-aml/natural-language-processing/master/setup_google_colab.py -O setup_google_colab.py\n",
        "    import setup_google_colab\n",
        "    setup_google_colab.setup_week1() \n",
        "    \n",
        "import sys\n",
        "sys.path.append(\"..\")\n",
        "from common.download_utils import download_week1_resources\n",
        "\n",
        "download_week1_resources()"
      ],
      "execution_count": 1,
      "outputs": [
        {
          "output_type": "stream",
          "text": [
            "--2020-07-27 16:12:06--  https://raw.githubusercontent.com/hse-aml/natural-language-processing/master/setup_google_colab.py\n",
            "Resolving raw.githubusercontent.com (raw.githubusercontent.com)... 151.101.0.133, 151.101.64.133, 151.101.128.133, ...\n",
            "Connecting to raw.githubusercontent.com (raw.githubusercontent.com)|151.101.0.133|:443... connected.\n",
            "HTTP request sent, awaiting response... 200 OK\n",
            "Length: 1939 (1.9K) [text/plain]\n",
            "Saving to: ‘setup_google_colab.py’\n",
            "\n",
            "\rsetup_google_colab.   0%[                    ]       0  --.-KB/s               \rsetup_google_colab. 100%[===================>]   1.89K  --.-KB/s    in 0s      \n",
            "\n",
            "2020-07-27 16:12:06 (21.6 MB/s) - ‘setup_google_colab.py’ saved [1939/1939]\n",
            "\n"
          ],
          "name": "stdout"
        },
        {
          "output_type": "display_data",
          "data": {
            "application/vnd.jupyter.widget-view+json": {
              "model_id": "ec69fb01aa0c48aab3a06a0e4e8ef49b",
              "version_minor": 0,
              "version_major": 2
            },
            "text/plain": [
              "HBox(children=(FloatProgress(value=0.0, max=7196138.0), HTML(value='')))"
            ]
          },
          "metadata": {
            "tags": []
          }
        },
        {
          "output_type": "stream",
          "text": [
            "\n"
          ],
          "name": "stdout"
        },
        {
          "output_type": "display_data",
          "data": {
            "application/vnd.jupyter.widget-view+json": {
              "model_id": "2e7696232e7543d1971ab2763589b7b2",
              "version_minor": 0,
              "version_major": 2
            },
            "text/plain": [
              "HBox(children=(FloatProgress(value=0.0, max=2166270.0), HTML(value='')))"
            ]
          },
          "metadata": {
            "tags": []
          }
        },
        {
          "output_type": "stream",
          "text": [
            "\n"
          ],
          "name": "stdout"
        },
        {
          "output_type": "display_data",
          "data": {
            "application/vnd.jupyter.widget-view+json": {
              "model_id": "cbbb81c8ebf54f1a9f7b30457450401f",
              "version_minor": 0,
              "version_major": 2
            },
            "text/plain": [
              "HBox(children=(FloatProgress(value=0.0, max=1041379.0), HTML(value='')))"
            ]
          },
          "metadata": {
            "tags": []
          }
        },
        {
          "output_type": "stream",
          "text": [
            "\n"
          ],
          "name": "stdout"
        },
        {
          "output_type": "display_data",
          "data": {
            "application/vnd.jupyter.widget-view+json": {
              "model_id": "c9ade61e339640b3b52684a48239efca",
              "version_minor": 0,
              "version_major": 2
            },
            "text/plain": [
              "HBox(children=(FloatProgress(value=0.0, max=5091.0), HTML(value='')))"
            ]
          },
          "metadata": {
            "tags": []
          }
        },
        {
          "output_type": "stream",
          "text": [
            "\n"
          ],
          "name": "stdout"
        }
      ]
    },
    {
      "cell_type": "markdown",
      "metadata": {
        "id": "SkzVuy9ntGoE",
        "colab_type": "text"
      },
      "source": [
        "### Grading\n",
        "We will create a grader instance below and use it to collect your answers. Note that these outputs will be stored locally inside grader and will be uploaded to platform only after running submitting function in the last part of this assignment. If you want to make partial submission, you can run that cell any time you want."
      ]
    },
    {
      "cell_type": "code",
      "metadata": {
        "id": "RBKykuFNtGoF",
        "colab_type": "code",
        "colab": {}
      },
      "source": [
        "from grader import Grader"
      ],
      "execution_count": 2,
      "outputs": []
    },
    {
      "cell_type": "code",
      "metadata": {
        "id": "s577Hs_7tGoL",
        "colab_type": "code",
        "colab": {}
      },
      "source": [
        "grader = Grader()"
      ],
      "execution_count": 3,
      "outputs": []
    },
    {
      "cell_type": "markdown",
      "metadata": {
        "id": "v_KHzEEatGoR",
        "colab_type": "text"
      },
      "source": [
        "### Text preprocessing"
      ]
    },
    {
      "cell_type": "markdown",
      "metadata": {
        "id": "jks0L3kKtGoS",
        "colab_type": "text"
      },
      "source": [
        "For this and most of the following assignments you will need to use a list of stop words. It can be downloaded from *nltk*:"
      ]
    },
    {
      "cell_type": "code",
      "metadata": {
        "id": "0qMaFHIatGoT",
        "colab_type": "code",
        "colab": {
          "base_uri": "https://localhost:8080/",
          "height": 51
        },
        "outputId": "b7a8fb40-791e-49bb-b1c3-b09e092bb05b"
      },
      "source": [
        "import nltk\n",
        "nltk.download('stopwords')\n",
        "from nltk.corpus import stopwords"
      ],
      "execution_count": 4,
      "outputs": [
        {
          "output_type": "stream",
          "text": [
            "[nltk_data] Downloading package stopwords to /root/nltk_data...\n",
            "[nltk_data]   Unzipping corpora/stopwords.zip.\n"
          ],
          "name": "stderr"
        }
      ]
    },
    {
      "cell_type": "markdown",
      "metadata": {
        "id": "nlPGKZkKtGoZ",
        "colab_type": "text"
      },
      "source": [
        "In this task you will deal with a dataset of post titles from StackOverflow. You are provided a split to 3 sets: *train*, *validation* and *test*. All corpora (except for *test*) contain titles of the posts and corresponding tags (100 tags are available). The *test* set is provided for Coursera's grading and doesn't contain answers. Upload the corpora using *pandas* and look at the data:"
      ]
    },
    {
      "cell_type": "code",
      "metadata": {
        "id": "cVp2DhlztGoc",
        "colab_type": "code",
        "colab": {}
      },
      "source": [
        "from ast import literal_eval\n",
        "import pandas as pd\n",
        "import numpy as np"
      ],
      "execution_count": 5,
      "outputs": []
    },
    {
      "cell_type": "code",
      "metadata": {
        "id": "aSahixTrtGog",
        "colab_type": "code",
        "colab": {}
      },
      "source": [
        "def read_data(filename):\n",
        "    data = pd.read_csv(filename, sep='\\t')\n",
        "    data['tags'] = data['tags'].apply(literal_eval)\n",
        "    return data"
      ],
      "execution_count": 6,
      "outputs": []
    },
    {
      "cell_type": "code",
      "metadata": {
        "id": "VndvYdJjtGom",
        "colab_type": "code",
        "colab": {}
      },
      "source": [
        "train = read_data('data/train.tsv')\n",
        "validation = read_data('data/validation.tsv')\n",
        "test = pd.read_csv('data/test.tsv', sep='\\t')"
      ],
      "execution_count": 7,
      "outputs": []
    },
    {
      "cell_type": "code",
      "metadata": {
        "id": "xZ-ueu5EtGor",
        "colab_type": "code",
        "colab": {
          "base_uri": "https://localhost:8080/",
          "height": 204
        },
        "outputId": "8f964995-c844-4583-b24d-862c79d3326d"
      },
      "source": [
        "train.head()"
      ],
      "execution_count": 8,
      "outputs": [
        {
          "output_type": "execute_result",
          "data": {
            "text/html": [
              "<div>\n",
              "<style scoped>\n",
              "    .dataframe tbody tr th:only-of-type {\n",
              "        vertical-align: middle;\n",
              "    }\n",
              "\n",
              "    .dataframe tbody tr th {\n",
              "        vertical-align: top;\n",
              "    }\n",
              "\n",
              "    .dataframe thead th {\n",
              "        text-align: right;\n",
              "    }\n",
              "</style>\n",
              "<table border=\"1\" class=\"dataframe\">\n",
              "  <thead>\n",
              "    <tr style=\"text-align: right;\">\n",
              "      <th></th>\n",
              "      <th>title</th>\n",
              "      <th>tags</th>\n",
              "    </tr>\n",
              "  </thead>\n",
              "  <tbody>\n",
              "    <tr>\n",
              "      <th>0</th>\n",
              "      <td>How to draw a stacked dotplot in R?</td>\n",
              "      <td>[r]</td>\n",
              "    </tr>\n",
              "    <tr>\n",
              "      <th>1</th>\n",
              "      <td>mysql select all records where a datetime fiel...</td>\n",
              "      <td>[php, mysql]</td>\n",
              "    </tr>\n",
              "    <tr>\n",
              "      <th>2</th>\n",
              "      <td>How to terminate windows phone 8.1 app</td>\n",
              "      <td>[c#]</td>\n",
              "    </tr>\n",
              "    <tr>\n",
              "      <th>3</th>\n",
              "      <td>get current time in a specific country via jquery</td>\n",
              "      <td>[javascript, jquery]</td>\n",
              "    </tr>\n",
              "    <tr>\n",
              "      <th>4</th>\n",
              "      <td>Configuring Tomcat to Use SSL</td>\n",
              "      <td>[java]</td>\n",
              "    </tr>\n",
              "  </tbody>\n",
              "</table>\n",
              "</div>"
            ],
            "text/plain": [
              "                                               title                  tags\n",
              "0                How to draw a stacked dotplot in R?                   [r]\n",
              "1  mysql select all records where a datetime fiel...          [php, mysql]\n",
              "2             How to terminate windows phone 8.1 app                  [c#]\n",
              "3  get current time in a specific country via jquery  [javascript, jquery]\n",
              "4                      Configuring Tomcat to Use SSL                [java]"
            ]
          },
          "metadata": {
            "tags": []
          },
          "execution_count": 8
        }
      ]
    },
    {
      "cell_type": "markdown",
      "metadata": {
        "id": "abE4QdsptGov",
        "colab_type": "text"
      },
      "source": [
        "As you can see, *title* column contains titles of the posts and *tags* column contains the tags. It could be noticed that a number of tags for a post is not fixed and could be as many as necessary."
      ]
    },
    {
      "cell_type": "markdown",
      "metadata": {
        "id": "soNPWfoFtGow",
        "colab_type": "text"
      },
      "source": [
        "For a more comfortable usage, initialize *X_train*, *X_val*, *X_test*, *y_train*, *y_val*."
      ]
    },
    {
      "cell_type": "code",
      "metadata": {
        "id": "U532iX9UtGox",
        "colab_type": "code",
        "colab": {}
      },
      "source": [
        "X_train, y_train = train['title'].values, train['tags'].values\n",
        "X_val, y_val = validation['title'].values, validation['tags'].values\n",
        "X_test = test['title'].values"
      ],
      "execution_count": 9,
      "outputs": []
    },
    {
      "cell_type": "markdown",
      "metadata": {
        "id": "V_FS9ijOtGo1",
        "colab_type": "text"
      },
      "source": [
        "One of the most known difficulties when working with natural data is that it's unstructured. For example, if you use it \"as is\" and extract tokens just by splitting the titles by whitespaces, you will see that there are many \"weird\" tokens like *3.5?*, *\"Flip*, etc. To prevent the problems, it's usually useful to prepare the data somehow. In this task you'll write a function, which will be also used in the other assignments. \n",
        "\n",
        "**Task 1 (TextPrepare).** Implement the function *text_prepare* following the instructions. After that, run the function *test_text_prepare* to test it on tiny cases and submit it to Coursera."
      ]
    },
    {
      "cell_type": "code",
      "metadata": {
        "id": "VWriFNBFtGo2",
        "colab_type": "code",
        "colab": {}
      },
      "source": [
        "import re"
      ],
      "execution_count": 10,
      "outputs": []
    },
    {
      "cell_type": "code",
      "metadata": {
        "id": "r4tBr5l9tGo7",
        "colab_type": "code",
        "colab": {}
      },
      "source": [
        "REPLACE_BY_SPACE_RE = re.compile('[/(){}\\[\\]\\|@,;]')\n",
        "BAD_SYMBOLS_RE = re.compile('[^0-9a-z #+_]')\n",
        "STOPWORDS = set(stopwords.words('english'))\n",
        "\n",
        "def text_prepare(text):\n",
        "    \"\"\"\n",
        "        text: a string\n",
        "        \n",
        "        return: modified initial string\n",
        "    \"\"\"\n",
        "    text = text.lower()\n",
        "    text = re.sub(REPLACE_BY_SPACE_RE,\" \",text)\n",
        "    text = re.sub(BAD_SYMBOLS_RE,\"\",text)\n",
        "    text = text.split();\n",
        "    return ' '.join([i for i in text if i not in STOPWORDS])"
      ],
      "execution_count": 11,
      "outputs": []
    },
    {
      "cell_type": "code",
      "metadata": {
        "id": "3Um1PSSatGo-",
        "colab_type": "code",
        "colab": {}
      },
      "source": [
        "def test_text_prepare():\n",
        "    examples = [\"SQL Server - any equivalent of Excel's CHOOSE function?\",\n",
        "                \"How to free c++ memory vector<int> * arr?\"]\n",
        "    answers = [\"sql server equivalent excels choose function\", \n",
        "               \"free c++ memory vectorint arr\"]\n",
        "    for ex, ans in zip(examples, answers):\n",
        "        if text_prepare(ex) != ans:\n",
        "            return \"Wrong answer for the case: '%s'\" % ex\n",
        "    return 'Basic tests are passed.'"
      ],
      "execution_count": 12,
      "outputs": []
    },
    {
      "cell_type": "code",
      "metadata": {
        "id": "gnzUM6mVtGpC",
        "colab_type": "code",
        "colab": {
          "base_uri": "https://localhost:8080/",
          "height": 34
        },
        "outputId": "b3537b38-b379-4f6d-a54a-29c7f148cdfb"
      },
      "source": [
        "print(test_text_prepare())"
      ],
      "execution_count": 13,
      "outputs": [
        {
          "output_type": "stream",
          "text": [
            "Basic tests are passed.\n"
          ],
          "name": "stdout"
        }
      ]
    },
    {
      "cell_type": "markdown",
      "metadata": {
        "id": "UqHi4ebBtGpH",
        "colab_type": "text"
      },
      "source": [
        "Run your implementation for questions from file *text_prepare_tests.tsv* to earn the points."
      ]
    },
    {
      "cell_type": "code",
      "metadata": {
        "id": "Ogq_xyaNtGpH",
        "colab_type": "code",
        "colab": {
          "base_uri": "https://localhost:8080/",
          "height": 102
        },
        "outputId": "eb7369f1-6b81-469f-a72f-f853efff59d6"
      },
      "source": [
        "prepared_questions = []\n",
        "for line in open('data/text_prepare_tests.tsv', encoding='utf-8'):\n",
        "    line = text_prepare(line.strip())\n",
        "    prepared_questions.append(line)\n",
        "text_prepare_results = '\\n'.join(prepared_questions)\n",
        "\n",
        "grader.submit_tag('TextPrepare', text_prepare_results)"
      ],
      "execution_count": 14,
      "outputs": [
        {
          "output_type": "stream",
          "text": [
            "Current answer for task TextPrepare is:\n",
            " sqlite php readonly\n",
            "creating multiple textboxes dynamically\n",
            "self one prefer javascript\n",
            "save php date...\n"
          ],
          "name": "stdout"
        }
      ]
    },
    {
      "cell_type": "markdown",
      "metadata": {
        "id": "-Xv_hkG-tGpN",
        "colab_type": "text"
      },
      "source": [
        "Now we can preprocess the titles using function *text_prepare* and  making sure that the headers don't have bad symbols:"
      ]
    },
    {
      "cell_type": "code",
      "metadata": {
        "id": "nCflI4d_tGpO",
        "colab_type": "code",
        "colab": {}
      },
      "source": [
        "X_train = [text_prepare(x) for x in X_train]\n",
        "X_val = [text_prepare(x) for x in X_val]\n",
        "X_test = [text_prepare(x) for x in X_test]"
      ],
      "execution_count": 15,
      "outputs": []
    },
    {
      "cell_type": "code",
      "metadata": {
        "id": "6zR7OuaetGpS",
        "colab_type": "code",
        "colab": {
          "base_uri": "https://localhost:8080/",
          "height": 68
        },
        "outputId": "9df11301-f267-49f7-b51a-ed8a4718caa6"
      },
      "source": [
        "X_train[:3]"
      ],
      "execution_count": 16,
      "outputs": [
        {
          "output_type": "execute_result",
          "data": {
            "text/plain": [
              "['draw stacked dotplot r',\n",
              " 'mysql select records datetime field less specified value',\n",
              " 'terminate windows phone 81 app']"
            ]
          },
          "metadata": {
            "tags": []
          },
          "execution_count": 16
        }
      ]
    },
    {
      "cell_type": "markdown",
      "metadata": {
        "id": "8MQVP85PtGpW",
        "colab_type": "text"
      },
      "source": [
        "For each tag and for each word calculate how many times they occur in the train corpus. \n",
        "\n",
        "**Task 2 (WordsTagsCount).** Find 3 most popular tags and 3 most popular words in the train data and submit the results to earn the points."
      ]
    },
    {
      "cell_type": "code",
      "metadata": {
        "id": "ZbgiUzmPtGpW",
        "colab_type": "code",
        "colab": {}
      },
      "source": [
        "from collections import defaultdict\n",
        "# Dictionary of all tags from train corpus with their counts.\n",
        "tags_counts = defaultdict(int)\n",
        "# Dictionary of all words from train corpus with their counts.\n",
        "words_counts = defaultdict(int)\n",
        "\n",
        "######################################\n",
        "######### YOUR CODE HERE #############\n",
        "######################################\n",
        "\n",
        "for tags in y_train:\n",
        "    for tag in tags:\n",
        "        tags_counts[tag] += 1\n",
        "\n",
        "for text in X_train:\n",
        "    for word in text.split():\n",
        "        words_counts[word] += 1"
      ],
      "execution_count": 17,
      "outputs": []
    },
    {
      "cell_type": "markdown",
      "metadata": {
        "id": "s61pgq2htGpc",
        "colab_type": "text"
      },
      "source": [
        "We are assuming that *tags_counts* and *words_counts* are dictionaries like `{'some_word_or_tag': frequency}`. After applying the sorting procedure, results will be look like this: `[('most_popular_word_or_tag', frequency), ('less_popular_word_or_tag', frequency), ...]`. The grader gets the results in the following format (two comma-separated strings with line break):\n",
        "\n",
        "    tag1,tag2,tag3\n",
        "    word1,word2,word3\n",
        "\n",
        "Pay attention that in this assignment you should not submit frequencies or some additional information."
      ]
    },
    {
      "cell_type": "code",
      "metadata": {
        "id": "OYelLXDhtGpd",
        "colab_type": "code",
        "colab": {
          "base_uri": "https://localhost:8080/",
          "height": 68
        },
        "outputId": "0f1b3df0-8718-4080-e06f-2966af02457a"
      },
      "source": [
        "most_common_tags = sorted(tags_counts.items(), key=lambda x: x[1], reverse=True)[:3]\n",
        "most_common_words = sorted(words_counts.items(), key=lambda x: x[1], reverse=True)[:3]\n",
        "\n",
        "grader.submit_tag('WordsTagsCount', '%s\\n%s' % (','.join(tag for tag, _ in most_common_tags), \n",
        "                                                ','.join(word for word, _ in most_common_words)))"
      ],
      "execution_count": 18,
      "outputs": [
        {
          "output_type": "stream",
          "text": [
            "Current answer for task WordsTagsCount is:\n",
            " javascript,c#,java\n",
            "using,php,java...\n"
          ],
          "name": "stdout"
        }
      ]
    },
    {
      "cell_type": "code",
      "metadata": {
        "id": "nz1F5gufcYr7",
        "colab_type": "code",
        "colab": {}
      },
      "source": [
        "#most_common_tags"
      ],
      "execution_count": 19,
      "outputs": []
    },
    {
      "cell_type": "code",
      "metadata": {
        "id": "ZhXpG_iHcxYg",
        "colab_type": "code",
        "colab": {}
      },
      "source": [
        "#most_common_words"
      ],
      "execution_count": 20,
      "outputs": []
    },
    {
      "cell_type": "markdown",
      "metadata": {
        "id": "Kobp2ztetGpg",
        "colab_type": "text"
      },
      "source": [
        "### Transforming text to a vector\n",
        "\n",
        "Machine Learning algorithms work with numeric data and we cannot use the provided text data \"as is\". There are many ways to transform text data to numeric vectors. In this task you will try to use two of them.\n",
        "\n",
        "#### Bag of words\n",
        "\n",
        "One of the well-known approaches is a *bag-of-words* representation. To create this transformation, follow the steps:\n",
        "1. Find *N* most popular words in train corpus and numerate them. Now we have a dictionary of the most popular words.\n",
        "2. For each title in the corpora create a zero vector with the dimension equals to *N*.\n",
        "3. For each text in the corpora iterate over words which are in the dictionary and increase by 1 the corresponding coordinate.\n",
        "\n",
        "Let's try to do it for a toy example. Imagine that we have *N* = 4 and the list of the most popular words is \n",
        "\n",
        "    ['hi', 'you', 'me', 'are']\n",
        "\n",
        "Then we need to numerate them, for example, like this: \n",
        "\n",
        "    {'hi': 0, 'you': 1, 'me': 2, 'are': 3}\n",
        "\n",
        "And we have the text, which we want to transform to the vector:\n",
        "\n",
        "    'hi how are you'\n",
        "\n",
        "For this text we create a corresponding zero vector \n",
        "\n",
        "    [0, 0, 0, 0]\n",
        "    \n",
        "And iterate over all words, and if the word is in the dictionary, we increase the value of the corresponding position in the vector:\n",
        "\n",
        "    'hi':  [1, 0, 0, 0]\n",
        "    'how': [1, 0, 0, 0] # word 'how' is not in our dictionary\n",
        "    'are': [1, 0, 0, 1]\n",
        "    'you': [1, 1, 0, 1]\n",
        "\n",
        "The resulting vector will be \n",
        "\n",
        "    [1, 1, 0, 1]\n",
        "   \n",
        "Implement the described encoding in the function *my_bag_of_words* with the size of the dictionary equals to 5000. To find the most common words use train data. You can test your code using the function *test_my_bag_of_words*."
      ]
    },
    {
      "cell_type": "code",
      "metadata": {
        "id": "2oPGQ4I0tGpg",
        "colab_type": "code",
        "colab": {}
      },
      "source": [
        "most_common_words = sorted(words_counts.items(), key=lambda x: x[1], reverse=True)[:6000]\n",
        "DICT_SIZE = 5000\n",
        "WORDS_TO_INDEX = {p[0]:i for i,p in enumerate(most_common_words[:DICT_SIZE])}    ####### YOUR CODE HERE #######\n",
        "INDEX_TO_WORDS = {WORDS_TO_INDEX[k]:k for k in WORDS_TO_INDEX}  ####### YOUR CODE HERE #######\n",
        "ALL_WORDS = WORDS_TO_INDEX.keys()\n",
        "\n",
        "def my_bag_of_words(text, words_to_index, dict_size):\n",
        "    \"\"\"\n",
        "        text: a string\n",
        "        dict_size: size of the dictionary\n",
        "        \n",
        "        return a vector which is a bag-of-words representation of 'text'\n",
        "    \"\"\"\n",
        "    result_vector = np.zeros(dict_size)\n",
        "    for word in text.split():\n",
        "        if word in words_to_index:\n",
        "            result_vector[words_to_index[word]] = 1\n",
        "    ######################################\n",
        "    ######### YOUR CODE HERE #############\n",
        "    ######################################\n",
        "    return result_vector"
      ],
      "execution_count": 21,
      "outputs": []
    },
    {
      "cell_type": "code",
      "metadata": {
        "id": "6cfWnd8rtGpj",
        "colab_type": "code",
        "colab": {}
      },
      "source": [
        "def test_my_bag_of_words():\n",
        "    words_to_index = {'hi': 0, 'you': 1, 'me': 2, 'are': 3}\n",
        "    examples = ['hi how are you']\n",
        "    answers = [[1, 1, 0, 1]]\n",
        "    for ex, ans in zip(examples, answers):\n",
        "        if (my_bag_of_words(ex, words_to_index, 4) != ans).any():\n",
        "            return \"Wrong answer for the case: '%s'\" % ex\n",
        "    return 'Basic tests are passed.'"
      ],
      "execution_count": 22,
      "outputs": []
    },
    {
      "cell_type": "code",
      "metadata": {
        "id": "oFEpxHb6tGpm",
        "colab_type": "code",
        "colab": {
          "base_uri": "https://localhost:8080/",
          "height": 34
        },
        "outputId": "3be0c9f9-232a-4417-8caf-d116635d2108"
      },
      "source": [
        "print(test_my_bag_of_words())"
      ],
      "execution_count": 23,
      "outputs": [
        {
          "output_type": "stream",
          "text": [
            "Basic tests are passed.\n"
          ],
          "name": "stdout"
        }
      ]
    },
    {
      "cell_type": "markdown",
      "metadata": {
        "id": "BasUiuIXtGpw",
        "colab_type": "text"
      },
      "source": [
        "Now apply the implemented function to all samples (this might take up to a minute):"
      ]
    },
    {
      "cell_type": "code",
      "metadata": {
        "id": "ecxsm_njtGpw",
        "colab_type": "code",
        "colab": {}
      },
      "source": [
        "from scipy import sparse as sp_sparse"
      ],
      "execution_count": 24,
      "outputs": []
    },
    {
      "cell_type": "code",
      "metadata": {
        "id": "JeL4K5qLtGpz",
        "colab_type": "code",
        "colab": {
          "base_uri": "https://localhost:8080/",
          "height": 68
        },
        "outputId": "1e608dc1-b0b2-47db-a155-1dbc002928a2"
      },
      "source": [
        "X_train_mybag = sp_sparse.vstack([sp_sparse.csr_matrix(my_bag_of_words(text, WORDS_TO_INDEX, DICT_SIZE)) for text in X_train])\n",
        "X_val_mybag = sp_sparse.vstack([sp_sparse.csr_matrix(my_bag_of_words(text, WORDS_TO_INDEX, DICT_SIZE)) for text in X_val])\n",
        "X_test_mybag = sp_sparse.vstack([sp_sparse.csr_matrix(my_bag_of_words(text, WORDS_TO_INDEX, DICT_SIZE)) for text in X_test])\n",
        "print('X_train shape ', X_train_mybag.shape)\n",
        "print('X_val shape ', X_val_mybag.shape)\n",
        "print('X_test shape ', X_test_mybag.shape)"
      ],
      "execution_count": 25,
      "outputs": [
        {
          "output_type": "stream",
          "text": [
            "X_train shape  (100000, 5000)\n",
            "X_val shape  (30000, 5000)\n",
            "X_test shape  (20000, 5000)\n"
          ],
          "name": "stdout"
        }
      ]
    },
    {
      "cell_type": "markdown",
      "metadata": {
        "id": "Tzo3OeAqtGp2",
        "colab_type": "text"
      },
      "source": [
        "As you might notice, we transform the data to sparse representation, to store the useful information efficiently. There are many [types](https://docs.scipy.org/doc/scipy/reference/sparse.html) of such representations, however sklearn algorithms can work only with [csr](https://docs.scipy.org/doc/scipy/reference/generated/scipy.sparse.csr_matrix.html#scipy.sparse.csr_matrix) matrix, so we will use this one."
      ]
    },
    {
      "cell_type": "markdown",
      "metadata": {
        "id": "9V6ZwAvftGp2",
        "colab_type": "text"
      },
      "source": [
        "**Task 3 (BagOfWords).** For the 11th row in *X_train_mybag* find how many non-zero elements it has. In this task the answer (variable *non_zero_elements_count*) should be an integer number, e.g. 20."
      ]
    },
    {
      "cell_type": "code",
      "metadata": {
        "id": "hKbb62s1tGp3",
        "colab_type": "code",
        "colab": {
          "base_uri": "https://localhost:8080/",
          "height": 51
        },
        "outputId": "ef8b4ed6-56e7-4760-a81d-811400cba9e2"
      },
      "source": [
        "row = X_train_mybag[10].toarray()[0]\n",
        "non_zero_elements_count = int(sum(row)) ####### YOUR CODE HERE #######\n",
        "\n",
        "grader.submit_tag('BagOfWords', str(non_zero_elements_count))"
      ],
      "execution_count": 26,
      "outputs": [
        {
          "output_type": "stream",
          "text": [
            "Current answer for task BagOfWords is:\n",
            " 7...\n"
          ],
          "name": "stdout"
        }
      ]
    },
    {
      "cell_type": "markdown",
      "metadata": {
        "id": "Z2TyYivBtGp7",
        "colab_type": "text"
      },
      "source": [
        "#### TF-IDF\n",
        "\n",
        "The second approach extends the bag-of-words framework by taking into account total frequencies of words in the corpora. It helps to penalize too frequent words and provide better features space. \n",
        "\n",
        "Implement function *tfidf_features* using class [TfidfVectorizer](http://scikit-learn.org/stable/modules/generated/sklearn.feature_extraction.text.TfidfVectorizer.html) from *scikit-learn*. Use *train* corpus to train a vectorizer. Don't forget to take a look into the arguments that you can pass to it. We suggest that you filter out too rare words (occur less than in 5 titles) and too frequent words (occur more than in 90% of the titles). Also, use bigrams along with unigrams in your vocabulary. "
      ]
    },
    {
      "cell_type": "code",
      "metadata": {
        "id": "ylcWGKyztGp7",
        "colab_type": "code",
        "colab": {}
      },
      "source": [
        "from sklearn.feature_extraction.text import TfidfVectorizer"
      ],
      "execution_count": 27,
      "outputs": []
    },
    {
      "cell_type": "code",
      "metadata": {
        "id": "T7iMQv8NtGp_",
        "colab_type": "code",
        "colab": {}
      },
      "source": [
        "def tfidf_features(X_train, X_val, X_test):\n",
        "    \"\"\"\n",
        "        X_train, X_val, X_test — samples        \n",
        "        return TF-IDF vectorized representation of each sample and vocabulary\n",
        "    \"\"\"\n",
        "    # Create TF-IDF vectorizer with a proper parameters choice\n",
        "    # Fit the vectorizer on the train set\n",
        "    # Transform the train, test, and val sets and return the result\n",
        "    \n",
        "    \n",
        "    tfidf_vectorizer = TfidfVectorizer(min_df=5, max_df=0.9, ngram_range=(1, 2),\n",
        "                                       token_pattern='(\\S+)') ####### YOUR CODE HERE #######\n",
        "    \n",
        "    ######################################\n",
        "    ######### YOUR CODE HERE #############\n",
        "    ######################################\n",
        "    X_train=tfidf_vectorizer.fit_transform(X_train)\n",
        "    X_val=tfidf_vectorizer.transform(X_val)\n",
        "    X_test=tfidf_vectorizer.transform(X_test)\n",
        "    \n",
        "    return X_train, X_val, X_test, tfidf_vectorizer.vocabulary_"
      ],
      "execution_count": 28,
      "outputs": []
    },
    {
      "cell_type": "markdown",
      "metadata": {
        "id": "60xR1CqKtGqF",
        "colab_type": "text"
      },
      "source": [
        "Once you have done text preprocessing, always have a look at the results. Be very careful at this step, because the performance of future models will drastically depend on it. \n",
        "\n",
        "In this case, check whether you have c++ or c# in your vocabulary, as they are obviously important tokens in our tags prediction task:"
      ]
    },
    {
      "cell_type": "code",
      "metadata": {
        "id": "P3DdAEqJtGqF",
        "colab_type": "code",
        "colab": {}
      },
      "source": [
        "X_train_tfidf, X_val_tfidf, X_test_tfidf, tfidf_vocab = tfidf_features(X_train, X_val, X_test)\n",
        "tfidf_reversed_vocab = {i:word for word,i in tfidf_vocab.items()}"
      ],
      "execution_count": 29,
      "outputs": []
    },
    {
      "cell_type": "code",
      "metadata": {
        "id": "vl7Kxp7ftGqI",
        "colab_type": "code",
        "colab": {
          "base_uri": "https://localhost:8080/",
          "height": 34
        },
        "outputId": "0620ff3e-8483-4fde-f3cb-fb505c26b3a6"
      },
      "source": [
        "######### YOUR CODE HERE #############\n",
        "tfidf_vocab['c++']"
      ],
      "execution_count": 31,
      "outputs": [
        {
          "output_type": "execute_result",
          "data": {
            "text/plain": [
              "1976"
            ]
          },
          "metadata": {
            "tags": []
          },
          "execution_count": 31
        }
      ]
    },
    {
      "cell_type": "markdown",
      "metadata": {
        "id": "gKTKwcB6tGqN",
        "colab_type": "text"
      },
      "source": [
        "If you can't find it, we need to understand how did it happen that we lost them? It happened during the built-in tokenization of TfidfVectorizer. Luckily, we can influence on this process. Get back to the function above and use '(\\S+)' regexp as a *token_pattern* in the constructor of the vectorizer.  "
      ]
    },
    {
      "cell_type": "markdown",
      "metadata": {
        "id": "4eVYRbQGtGqP",
        "colab_type": "text"
      },
      "source": [
        "Now, use this transormation for the data and check again."
      ]
    },
    {
      "cell_type": "code",
      "metadata": {
        "id": "neVZI0bNtGqQ",
        "colab_type": "code",
        "colab": {
          "base_uri": "https://localhost:8080/",
          "height": 51
        },
        "outputId": "2c3ccb91-df8f-4ff5-e3db-404f153ad330"
      },
      "source": [
        "######### YOUR CODE HERE #############\n",
        "#tfidf_reversed_vocab[1976]\n",
        "for word in [\"c++\", \"c#\"]:\n",
        "    if word in tfidf_vocab:\n",
        "        print(True)\n",
        "    else:\n",
        "        print(False)"
      ],
      "execution_count": 32,
      "outputs": [
        {
          "output_type": "stream",
          "text": [
            "True\n",
            "True\n"
          ],
          "name": "stdout"
        }
      ]
    },
    {
      "cell_type": "markdown",
      "metadata": {
        "id": "yrZPMTfAtGqS",
        "colab_type": "text"
      },
      "source": [
        "### MultiLabel classifier\n",
        "\n",
        "As we have noticed before, in this task each example can have multiple tags. To deal with such kind of prediction, we need to transform labels in a binary form and the prediction will be a mask of 0s and 1s. For this purpose it is convenient to use [MultiLabelBinarizer](http://scikit-learn.org/stable/modules/generated/sklearn.preprocessing.MultiLabelBinarizer.html) from *sklearn*."
      ]
    },
    {
      "cell_type": "code",
      "metadata": {
        "id": "efrKkVDYtGqT",
        "colab_type": "code",
        "colab": {}
      },
      "source": [
        "from sklearn.preprocessing import MultiLabelBinarizer"
      ],
      "execution_count": 33,
      "outputs": []
    },
    {
      "cell_type": "code",
      "metadata": {
        "id": "y6lvI1rBtGqX",
        "colab_type": "code",
        "colab": {}
      },
      "source": [
        "mlb = MultiLabelBinarizer(classes=sorted(tags_counts.keys()))\n",
        "y_train = mlb.fit_transform(y_train)\n",
        "y_val = mlb.fit_transform(y_val)"
      ],
      "execution_count": 34,
      "outputs": []
    },
    {
      "cell_type": "markdown",
      "metadata": {
        "id": "rbwGy7E8tGqd",
        "colab_type": "text"
      },
      "source": [
        "Implement the function *train_classifier* for training a classifier. In this task we suggest to use One-vs-Rest approach, which is implemented in [OneVsRestClassifier](http://scikit-learn.org/stable/modules/generated/sklearn.multiclass.OneVsRestClassifier.html) class. In this approach *k* classifiers (= number of tags) are trained. As a basic classifier, use [LogisticRegression](http://scikit-learn.org/stable/modules/generated/sklearn.linear_model.LogisticRegression.html). It is one of the simplest methods, but often it performs good enough in text classification tasks. It might take some time, because a number of classifiers to train is large."
      ]
    },
    {
      "cell_type": "code",
      "metadata": {
        "id": "A7EekgmStGqe",
        "colab_type": "code",
        "colab": {}
      },
      "source": [
        "from sklearn.multiclass import OneVsRestClassifier\n",
        "from sklearn.linear_model import LogisticRegression, RidgeClassifier"
      ],
      "execution_count": 35,
      "outputs": []
    },
    {
      "cell_type": "code",
      "metadata": {
        "id": "xfAL2q5ItGqh",
        "colab_type": "code",
        "colab": {}
      },
      "source": [
        "def train_classifier(X_train, y_train, C=1.0, penalty='l2'):\n",
        "    \"\"\"\n",
        "      X_train, y_train — training data\n",
        "      \n",
        "      return: trained classifier\n",
        "    \"\"\"\n",
        "    \n",
        "    # Create and fit LogisticRegression wraped into OneVsRestClassifier.\n",
        "\n",
        "    ######################################\n",
        "    ######### YOUR CODE HERE #############\n",
        "    ######################################    \n",
        "\n",
        "    lr = LogisticRegression(solver='newton-cg',C=C, penalty=penalty,n_jobs=-1)\n",
        "    # lr.fit(X_train, y_train)\n",
        "    ovr = OneVsRestClassifier(lr)\n",
        "    ovr.fit(X_train, y_train)\n",
        "    return ovr"
      ],
      "execution_count": 36,
      "outputs": []
    },
    {
      "cell_type": "markdown",
      "metadata": {
        "id": "tW8zXNV4tGqj",
        "colab_type": "text"
      },
      "source": [
        "Train the classifiers for different data transformations: *bag-of-words* and *tf-idf*.\n",
        "\n",
        "If you receive a convergence warning, please set parameter *max_iter* in LogisticRegression to a larger value (the default is 100)."
      ]
    },
    {
      "cell_type": "code",
      "metadata": {
        "id": "XJSshlyItGqk",
        "colab_type": "code",
        "colab": {}
      },
      "source": [
        "classifier_mybag = train_classifier(X_train_mybag, y_train)\n",
        "classifier_tfidf = train_classifier(X_train_tfidf, y_train)"
      ],
      "execution_count": 37,
      "outputs": []
    },
    {
      "cell_type": "markdown",
      "metadata": {
        "id": "mbXoJXXwtGqs",
        "colab_type": "text"
      },
      "source": [
        "Now you can create predictions for the data. You will need two types of predictions: labels and scores."
      ]
    },
    {
      "cell_type": "code",
      "metadata": {
        "id": "nEwKWkJ0tGqu",
        "colab_type": "code",
        "colab": {}
      },
      "source": [
        "y_val_predicted_labels_mybag = classifier_mybag.predict(X_val_mybag)\n",
        "y_val_predicted_scores_mybag = classifier_mybag.decision_function(X_val_mybag)\n",
        "\n",
        "y_val_predicted_labels_tfidf = classifier_tfidf.predict(X_val_tfidf)\n",
        "y_val_predicted_scores_tfidf = classifier_tfidf.decision_function(X_val_tfidf)"
      ],
      "execution_count": 38,
      "outputs": []
    },
    {
      "cell_type": "markdown",
      "metadata": {
        "id": "5A5Sj5uwtGqx",
        "colab_type": "text"
      },
      "source": [
        "Now take a look at how classifier, which uses TF-IDF, works for a few examples:"
      ]
    },
    {
      "cell_type": "code",
      "metadata": {
        "id": "cmOEPLMjtGqz",
        "colab_type": "code",
        "colab": {
          "base_uri": "https://localhost:8080/",
          "height": 272
        },
        "outputId": "5a4ee091-2309-4bbe-ab2b-998e8a182d05"
      },
      "source": [
        "y_val_pred_inversed = mlb.inverse_transform(y_val_predicted_labels_tfidf)\n",
        "y_val_inversed = mlb.inverse_transform(y_val)\n",
        "for i in range(3):\n",
        "    print('Title:\\t{}\\nTrue labels:\\t{}\\nPredicted labels:\\t{}\\n\\n'.format(\n",
        "        X_val[i],\n",
        "        ','.join(y_val_inversed[i]),\n",
        "        ','.join(y_val_pred_inversed[i])\n",
        "    ))"
      ],
      "execution_count": 39,
      "outputs": [
        {
          "output_type": "stream",
          "text": [
            "Title:\todbc_exec always fail\n",
            "True labels:\tphp,sql\n",
            "Predicted labels:\t\n",
            "\n",
            "\n",
            "Title:\taccess base classes variable within child class\n",
            "True labels:\tjavascript\n",
            "Predicted labels:\t\n",
            "\n",
            "\n",
            "Title:\tcontenttype application json required rails\n",
            "True labels:\truby,ruby-on-rails\n",
            "Predicted labels:\tjson,ruby-on-rails\n",
            "\n",
            "\n"
          ],
          "name": "stdout"
        }
      ]
    },
    {
      "cell_type": "markdown",
      "metadata": {
        "id": "oWs28PWXtGq4",
        "colab_type": "text"
      },
      "source": [
        "Now, we would need to compare the results of different predictions, e.g. to see whether TF-IDF transformation helps or to try different regularization techniques in logistic regression. For all these experiments, we need to setup evaluation procedure. "
      ]
    },
    {
      "cell_type": "markdown",
      "metadata": {
        "id": "PNVntBYptGq5",
        "colab_type": "text"
      },
      "source": [
        "### Evaluation\n",
        "\n",
        "To evaluate the results we will use several classification metrics:\n",
        " - [Accuracy](http://scikit-learn.org/stable/modules/generated/sklearn.metrics.accuracy_score.html)\n",
        " - [F1-score](http://scikit-learn.org/stable/modules/generated/sklearn.metrics.f1_score.html)\n",
        " - [Area under ROC-curve](http://scikit-learn.org/stable/modules/generated/sklearn.metrics.roc_auc_score.html)\n",
        " - [Area under precision-recall curve](http://scikit-learn.org/stable/modules/generated/sklearn.metrics.average_precision_score.html#sklearn.metrics.average_precision_score) \n",
        " \n",
        "Make sure you are familiar with all of them. How would you expect the things work for the multi-label scenario? Read about micro/macro/weighted averaging following the sklearn links provided above."
      ]
    },
    {
      "cell_type": "code",
      "metadata": {
        "id": "Nup6zUI4tGq5",
        "colab_type": "code",
        "colab": {}
      },
      "source": [
        "from sklearn.metrics import accuracy_score\n",
        "from sklearn.metrics import f1_score\n",
        "from sklearn.metrics import roc_auc_score \n",
        "from sklearn.metrics import average_precision_score\n",
        "from sklearn.metrics import recall_score"
      ],
      "execution_count": 40,
      "outputs": []
    },
    {
      "cell_type": "markdown",
      "metadata": {
        "id": "hTs0FThYtGrA",
        "colab_type": "text"
      },
      "source": [
        "Implement the function *print_evaluation_scores* which calculates and prints to stdout:\n",
        " - *accuracy*\n",
        " - *F1-score macro/micro/weighted*\n",
        " - *Precision macro/micro/weighted*"
      ]
    },
    {
      "cell_type": "code",
      "metadata": {
        "id": "ht0ibUDptGrB",
        "colab_type": "code",
        "colab": {}
      },
      "source": [
        "def print_evaluation_scores(y_val, predicted):\n",
        "    \n",
        "    ######################################\n",
        "    ######### YOUR CODE HERE #############\n",
        "    ######################################\n",
        "\n",
        "   print(accuracy_score(y_val, predicted))\n",
        "   print(f1_score(y_val, predicted, average='weighted'))\n",
        "   print(average_precision_score(y_val, predicted))"
      ],
      "execution_count": 41,
      "outputs": []
    },
    {
      "cell_type": "code",
      "metadata": {
        "id": "9Ysw5inatGrD",
        "colab_type": "code",
        "colab": {
          "base_uri": "https://localhost:8080/",
          "height": 153
        },
        "outputId": "c8dfafa9-4ea3-4a02-dcb0-a0f316a24b7b"
      },
      "source": [
        "print('Bag-of-words')\n",
        "print_evaluation_scores(y_val, y_val_predicted_labels_mybag)\n",
        "print('Tfidf')\n",
        "print_evaluation_scores(y_val, y_val_predicted_labels_tfidf)"
      ],
      "execution_count": 42,
      "outputs": [
        {
          "output_type": "stream",
          "text": [
            "Bag-of-words\n",
            "0.36136666666666667\n",
            "0.6516917405921931\n",
            "0.34868874920312476\n",
            "Tfidf\n",
            "0.33393333333333336\n",
            "0.6142668931088263\n",
            "0.30181976655232984\n"
          ],
          "name": "stdout"
        }
      ]
    },
    {
      "cell_type": "markdown",
      "metadata": {
        "id": "Q4pfzVWntGrH",
        "colab_type": "text"
      },
      "source": [
        "You might also want to plot some generalization of the [ROC curve](http://scikit-learn.org/stable/modules/model_evaluation.html#receiver-operating-characteristic-roc) for the case of multi-label classification. Provided function *roc_auc* can make it for you. The input parameters of this function are:\n",
        " - true labels\n",
        " - decision functions scores\n",
        " - number of classes"
      ]
    },
    {
      "cell_type": "code",
      "metadata": {
        "id": "01gpYpI6tGrH",
        "colab_type": "code",
        "colab": {}
      },
      "source": [
        "from metrics import roc_auc\n",
        "%matplotlib inline"
      ],
      "execution_count": 43,
      "outputs": []
    },
    {
      "cell_type": "code",
      "metadata": {
        "id": "1p7EvxjjtGrP",
        "colab_type": "code",
        "colab": {
          "base_uri": "https://localhost:8080/",
          "height": 295
        },
        "outputId": "172f6861-e574-4bcb-8be0-39e1a6e06460"
      },
      "source": [
        "n_classes = len(tags_counts)\n",
        "roc_auc(y_val, y_val_predicted_scores_mybag, n_classes)"
      ],
      "execution_count": 44,
      "outputs": [
        {
          "output_type": "display_data",
          "data": {
            "image/png": "[encoded data removed]",
            "text/plain": [
              "<Figure size 432x288 with 1 Axes>"
            ]
          },
          "metadata": {
            "tags": [],
            "needs_background": "light"
          }
        }
      ]
    },
    {
      "cell_type": "code",
      "metadata": {
        "id": "G71uv0zJtGrR",
        "colab_type": "code",
        "colab": {
          "base_uri": "https://localhost:8080/",
          "height": 295
        },
        "outputId": "450ce44b-4798-4a7c-d82c-21ba9f90893d"
      },
      "source": [
        "n_classes = len(tags_counts)\n",
        "roc_auc(y_val, y_val_predicted_scores_tfidf, n_classes)"
      ],
      "execution_count": 45,
      "outputs": [
        {
          "output_type": "display_data",
          "data": {
            "image/png": "[encoded data removed]",
            "text/plain": [
              "<Figure size 432x288 with 1 Axes>"
            ]
          },
          "metadata": {
            "tags": [],
            "needs_background": "light"
          }
        }
      ]
    },
    {
      "cell_type": "markdown",
      "metadata": {
        "id": "nWSIivPotGrV",
        "colab_type": "text"
      },
      "source": [
        "**Task 4 (MultilabelClassification).** Once we have the evaluation set up, we suggest that you experiment a bit with training your classifiers. We will use *F1-score weighted* as an evaluation metric. Our recommendation:\n",
        "- compare the quality of the bag-of-words and TF-IDF approaches and chose one of them.\n",
        "- for the chosen one, try *L1* and *L2*-regularization techniques in Logistic Regression with different coefficients (e.g. C equal to 0.1, 1, 10, 100).\n",
        "\n",
        "You also could try other improvements of the preprocessing / model, if you want. "
      ]
    },
    {
      "cell_type": "code",
      "metadata": {
        "id": "v9-rJpsbtGrV",
        "colab_type": "code",
        "colab": {}
      },
      "source": [
        "######################################\n",
        "######### YOUR CODE HERE #############\n",
        "######################################\n",
        "\n",
        "y_val_predicted_labels_mybag = classifier_mybag.predict(X_val_mybag)\n",
        "y_val_predicted_scores_mybag = classifier_mybag.decision_function(X_val_mybag)\n",
        "\n",
        "y_val_predicted_labels_tfidf = classifier_tfidf.predict(X_val_tfidf)\n",
        "y_val_predicted_scores_tfidf = classifier_tfidf.decision_function(X_val_tfidf)"
      ],
      "execution_count": 46,
      "outputs": []
    },
    {
      "cell_type": "markdown",
      "metadata": {
        "id": "v-xG72YmtGra",
        "colab_type": "text"
      },
      "source": [
        "When you are happy with the quality, create predictions for *test* set, which you will submit to Coursera."
      ]
    },
    {
      "cell_type": "code",
      "metadata": {
        "id": "7BL4bkFttGrb",
        "colab_type": "code",
        "colab": {
          "base_uri": "https://localhost:8080/",
          "height": 204
        },
        "outputId": "cc638a8a-ae48-4b5d-957e-c954e4f9f915"
      },
      "source": [
        "test_predictions = classifier_tfidf.predict(X_test_tfidf) ######### YOUR CODE HERE #############\n",
        "test_pred_inversed = mlb.inverse_transform(test_predictions)\n",
        "\n",
        "test_predictions_for_submission = '\\n'.join('%i\\t%s' % (i, ','.join(row)) for i, row in enumerate(test_pred_inversed))\n",
        "grader.submit_tag('MultilabelClassification', test_predictions_for_submission)"
      ],
      "execution_count": 47,
      "outputs": [
        {
          "output_type": "stream",
          "text": [
            "Current answer for task MultilabelClassification is:\n",
            " 0\tphp\n",
            "1\tjavascript,jquery\n",
            "2\t\n",
            "3\tjavascript,jquery\n",
            "4\tandroid,java\n",
            "5\tphp,xml\n",
            "6\tjson\n",
            "7\tjava\n",
            "8\tpython\n",
            "9\th...\n"
          ],
          "name": "stdout"
        }
      ]
    },
    {
      "cell_type": "markdown",
      "metadata": {
        "id": "Iq3014bgtGri",
        "colab_type": "text"
      },
      "source": [
        "### Analysis of the most important features"
      ]
    },
    {
      "cell_type": "markdown",
      "metadata": {
        "id": "e2LHdysDtGrj",
        "colab_type": "text"
      },
      "source": [
        "Finally, it is usually a good idea to look at the features (words or n-grams) that are used with the largest weigths in your logistic regression model."
      ]
    },
    {
      "cell_type": "markdown",
      "metadata": {
        "id": "PIaL7JFPtGrj",
        "colab_type": "text"
      },
      "source": [
        "Implement the function *print_words_for_tag* to find them. Get back to sklearn documentation on [OneVsRestClassifier](http://scikit-learn.org/stable/modules/generated/sklearn.multiclass.OneVsRestClassifier.html) and [LogisticRegression](http://scikit-learn.org/stable/modules/generated/sklearn.linear_model.LogisticRegression.html) if needed."
      ]
    },
    {
      "cell_type": "code",
      "metadata": {
        "id": "rvJ2XT3wtGrk",
        "colab_type": "code",
        "colab": {}
      },
      "source": [
        "def print_words_for_tag(classifier, tag, tags_classes, index_to_words, all_words):\n",
        "    \"\"\"\n",
        "        classifier: trained classifier\n",
        "        tag: particular tag\n",
        "        tags_classes: a list of classes names from MultiLabelBinarizer\n",
        "        index_to_words: index_to_words transformation\n",
        "        all_words: all words in the dictionary\n",
        "        \n",
        "        return nothing, just print top 5 positive and top 5 negative words for current tag\n",
        "    \"\"\"\n",
        "    print('Tag:\\t{}'.format(tag))\n",
        "    \n",
        "    # Extract an estimator from the classifier for the given tag.\n",
        "    # Extract feature coefficients from the estimator. \n",
        "    \n",
        "    ######################################\n",
        "    ######### YOUR CODE HERE #############\n",
        "    ######################################\n",
        "    est = classifier.estimators_[tags_classes.index(tag)]\n",
        "    top_positive_words = [index_to_words[index] for index in est.coef_.argsort().tolist()[0][-5:]] # top-5 words sorted by the coefficiens.\n",
        "    top_negative_words = [index_to_words[index] for index in est.coef_.argsort().tolist()[0][:5]] # bottom-5 words  sorted by the coefficients.\n",
        "    print('Top positive words:\\t{}'.format(', '.join(top_positive_words)))\n",
        "    print('Top negative words:\\t{}\\n'.format(', '.join(top_negative_words)))\n"
      ],
      "execution_count": 48,
      "outputs": []
    },
    {
      "cell_type": "code",
      "metadata": {
        "id": "t5pZEZ9rtGro",
        "colab_type": "code",
        "colab": {
          "base_uri": "https://localhost:8080/",
          "height": 221
        },
        "outputId": "9dc6c5e1-9bd3-41bb-d92e-c89395a63931"
      },
      "source": [
        "print_words_for_tag(classifier_tfidf, 'c', mlb.classes, tfidf_reversed_vocab, ALL_WORDS)\n",
        "print_words_for_tag(classifier_tfidf, 'c++', mlb.classes, tfidf_reversed_vocab, ALL_WORDS)\n",
        "print_words_for_tag(classifier_tfidf, 'linux', mlb.classes, tfidf_reversed_vocab, ALL_WORDS)"
      ],
      "execution_count": 49,
      "outputs": [
        {
          "output_type": "stream",
          "text": [
            "Tag:\tc\n",
            "Top positive words:\tgcc, printf, scanf, malloc, c\n",
            "Top negative words:\tjava, php, python, javascript, c#\n",
            "\n",
            "Tag:\tc++\n",
            "Top positive words:\topencv, mfc, boost, qt, c++\n",
            "Top negative words:\tjava, php, python, javascript, c#\n",
            "\n",
            "Tag:\tlinux\n",
            "Top positive words:\tsignal, address, c, ubuntu, linux\n",
            "Top negative words:\tjavascript, c#, jquery, array, method\n",
            "\n"
          ],
          "name": "stdout"
        }
      ]
    },
    {
      "cell_type": "markdown",
      "metadata": {
        "id": "k-JTfKwKtGrq",
        "colab_type": "text"
      },
      "source": [
        "### Authorization & Submission\n",
        "To submit the assignmnent to Cousera platform, please, enter your e-mail and token into variables below. You can generate the token on this programming assignment page. <b>Note:</b> The token expires 30 minutes after generation.\n",
        "\n",
        "Please, submit your solutions for the assignments **only** to Coursera platform, **do not create a Pull request on Github**."
      ]
    },
    {
      "cell_type": "code",
      "metadata": {
        "id": "q4QfRMW_tGrt",
        "colab_type": "code",
        "colab": {
          "base_uri": "https://localhost:8080/",
          "height": 391
        },
        "outputId": "651d3427-45a1-437b-cd26-3ec78446cf06"
      },
      "source": [
        "grader.status()"
      ],
      "execution_count": 50,
      "outputs": [
        {
          "output_type": "stream",
          "text": [
            "You want to submit these parts:\n",
            "Task TextPrepare:\n",
            " sqlite php readonly\n",
            "creating multiple textboxes dynamically\n",
            "self one prefer javascript\n",
            "save php date...\n",
            "Task WordsTagsCount:\n",
            " javascript,c#,java\n",
            "using,php,java...\n",
            "Task BagOfWords:\n",
            " 7...\n",
            "Task MultilabelClassification:\n",
            " 0\tphp\n",
            "1\tjavascript,jquery\n",
            "2\t\n",
            "3\tjavascript,jquery\n",
            "4\tandroid,java\n",
            "5\tphp,xml\n",
            "6\tjson\n",
            "7\tjava\n",
            "8\tpython\n",
            "9\th...\n"
          ],
          "name": "stdout"
        }
      ]
    },
    {
      "cell_type": "code",
      "metadata": {
        "id": "FoiTcVKStGry",
        "colab_type": "code",
        "colab": {
          "base_uri": "https://localhost:8080/",
          "height": 391
        },
        "outputId": "164ee068-386a-4cca-8cfe-b87d82f74a24"
      },
      "source": [
        "STUDENT_EMAIL = \"pcgelriv@upc.edu.pe\"\n",
        "STUDENT_TOKEN = \"Yo1ltzWq7Mex0XyC\"\n",
        "grader.status()"
      ],
      "execution_count": 51,
      "outputs": [
        {
          "output_type": "stream",
          "text": [
            "You want to submit these parts:\n",
            "Task TextPrepare:\n",
            " sqlite php readonly\n",
            "creating multiple textboxes dynamically\n",
            "self one prefer javascript\n",
            "save php date...\n",
            "Task WordsTagsCount:\n",
            " javascript,c#,java\n",
            "using,php,java...\n",
            "Task BagOfWords:\n",
            " 7...\n",
            "Task MultilabelClassification:\n",
            " 0\tphp\n",
            "1\tjavascript,jquery\n",
            "2\t\n",
            "3\tjavascript,jquery\n",
            "4\tandroid,java\n",
            "5\tphp,xml\n",
            "6\tjson\n",
            "7\tjava\n",
            "8\tpython\n",
            "9\th...\n"
          ],
          "name": "stdout"
        }
      ]
    },
    {
      "cell_type": "markdown",
      "metadata": {
        "id": "GmUlYxE7tGr1",
        "colab_type": "text"
      },
      "source": [
        "If you want to submit these answers, run cell below"
      ]
    },
    {
      "cell_type": "code",
      "metadata": {
        "id": "xOKoku_vtGr4",
        "colab_type": "code",
        "colab": {
          "base_uri": "https://localhost:8080/",
          "height": 34
        },
        "outputId": "a4ca699d-ce0c-4593-a3d7-0f3fed3da3df"
      },
      "source": [
        "grader.submit(STUDENT_EMAIL, STUDENT_TOKEN)"
      ],
      "execution_count": 52,
      "outputs": [
        {
          "output_type": "stream",
          "text": [
            "Submitted to Coursera platform. See results on assignment page!\n"
          ],
          "name": "stdout"
        }
      ]
    },
    {
      "cell_type": "code",
      "metadata": {
        "id": "VUzl-AdXHrNZ",
        "colab_type": "code",
        "colab": {}
      },
      "source": [
        ""
      ],
      "execution_count": null,
      "outputs": []
    }
  ]
}